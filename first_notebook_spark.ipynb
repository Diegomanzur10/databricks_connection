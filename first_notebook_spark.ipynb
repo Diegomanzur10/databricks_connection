{
 "cells": [
  {
   "cell_type": "code",
   "execution_count": 1,
   "id": "55794056-6ed9-408d-903d-10edc007d5ea",
   "metadata": {},
   "outputs": [
    {
     "name": "stdout",
     "output_type": "stream",
     "text": [
      "Requirement already satisfied: pyspark in /usr/local/spark-3.2.1-bin-hadoop3.2/python (3.2.1)\n",
      "Requirement already satisfied: pandas in /opt/conda/lib/python3.10/site-packages (1.4.2)\n",
      "Requirement already satisfied: numpy in /opt/conda/lib/python3.10/site-packages (1.21.6)\n",
      "Requirement already satisfied: findspark in /opt/conda/lib/python3.10/site-packages (2.0.1)\n",
      "Requirement already satisfied: py4j==0.10.9.3 in /opt/conda/lib/python3.10/site-packages (from pyspark) (0.10.9.3)\n",
      "Requirement already satisfied: python-dateutil>=2.8.1 in /opt/conda/lib/python3.10/site-packages (from pandas) (2.8.2)\n",
      "Requirement already satisfied: pytz>=2020.1 in /opt/conda/lib/python3.10/site-packages (from pandas) (2022.1)\n",
      "Requirement already satisfied: six>=1.5 in /opt/conda/lib/python3.10/site-packages (from python-dateutil>=2.8.1->pandas) (1.16.0)\n"
     ]
    }
   ],
   "source": [
    "!pip install pyspark pandas numpy findspark"
   ]
  },
  {
   "cell_type": "code",
   "execution_count": 7,
   "id": "11e0907b-fad4-4748-95d9-8fdffa29c091",
   "metadata": {},
   "outputs": [
    {
     "data": {
      "text/html": [
       "\n",
       "            <div>\n",
       "                <p><b>SparkSession - in-memory</b></p>\n",
       "                \n",
       "        <div>\n",
       "            <p><b>SparkContext</b></p>\n",
       "\n",
       "            <p><a href=\"http://c85bf443950e:4041\">Spark UI</a></p>\n",
       "\n",
       "            <dl>\n",
       "              <dt>Version</dt>\n",
       "                <dd><code>v3.2.1</code></dd>\n",
       "              <dt>Master</dt>\n",
       "                <dd><code>local[*]</code></dd>\n",
       "              <dt>AppName</dt>\n",
       "                <dd><code>spark-app</code></dd>\n",
       "            </dl>\n",
       "        </div>\n",
       "        \n",
       "            </div>\n",
       "        "
      ],
      "text/plain": [
       "<pyspark.sql.session.SparkSession at 0x7f893433f220>"
      ]
     },
     "execution_count": 7,
     "metadata": {},
     "output_type": "execute_result"
    }
   ],
   "source": [
    "from pyspark import SparkConf\n",
    "from pyspark.sql import SparkSession\n",
    "from pyspark.sql.functions import col\n",
    "conf = SparkConf().setAppName('spark-app').setMaster('local[*]')\n",
    "spark = SparkSession.builder.config(conf=conf).getOrCreate()\n",
    "spark"
   ]
  },
  {
   "cell_type": "code",
   "execution_count": 3,
   "id": "b6764364-4559-4b77-b47a-f3b9ada3dc45",
   "metadata": {},
   "outputs": [
    {
     "name": "stdout",
     "output_type": "stream",
     "text": [
      "--2022-07-02 12:14:02--  https://jacobceles.github.io/knowledge_repo/colab_and_pyspark/cars.csv\n",
      "Resolving jacobceles.github.io (jacobceles.github.io)... 185.199.108.153, 185.199.109.153, 185.199.110.153, ...\n",
      "Connecting to jacobceles.github.io (jacobceles.github.io)|185.199.108.153|:443... connected.\n",
      "HTTP request sent, awaiting response... 301 Moved Permanently\n",
      "Location: https://jacobcelestine.com/knowledge_repo/colab_and_pyspark/cars.csv [following]\n",
      "--2022-07-02 12:14:02--  https://jacobcelestine.com/knowledge_repo/colab_and_pyspark/cars.csv\n",
      "Resolving jacobcelestine.com (jacobcelestine.com)... 185.199.108.153, 185.199.109.153, 185.199.110.153, ...\n",
      "Connecting to jacobcelestine.com (jacobcelestine.com)|185.199.108.153|:443... connected.\n",
      "HTTP request sent, awaiting response... 200 OK\n",
      "Length: 22608 (22K) [text/csv]\n",
      "Saving to: ‘cars.csv’\n",
      "\n",
      "cars.csv            100%[===================>]  22.08K  --.-KB/s    in 0s      \n",
      "\n",
      "2022-07-02 12:14:02 (65.6 MB/s) - ‘cars.csv’ saved [22608/22608]\n",
      "\n"
     ]
    }
   ],
   "source": [
    "# Downloading and preprocessing Cars Data downloaded origianlly from https://perso.telecom-paristech.fr/eagan/class/igr204/datasets\n",
    "!wget https://jacobceles.github.io/knowledge_repo/colab_and_pyspark/cars.csv"
   ]
  },
  {
   "cell_type": "code",
   "execution_count": 4,
   "id": "82fa52ed-7124-4306-979f-d9584549c952",
   "metadata": {},
   "outputs": [
    {
     "name": "stdout",
     "output_type": "stream",
     "text": [
      "cars.csv  clase_9_filtering.ipynb\n"
     ]
    }
   ],
   "source": [
    "!ls"
   ]
  },
  {
   "cell_type": "code",
   "execution_count": 5,
   "id": "73d5bded-37be-4da1-8215-750b47e11d4c",
   "metadata": {},
   "outputs": [
    {
     "name": "stdout",
     "output_type": "stream",
     "text": [
      "+--------------------+----+---------+------------+----------+------+------------+-----+------+\n",
      "|                 Car| MPG|Cylinders|Displacement|Horsepower|Weight|Acceleration|Model|Origin|\n",
      "+--------------------+----+---------+------------+----------+------+------------+-----+------+\n",
      "|Chevrolet Chevell...|18.0|        8|       307.0|     130.0| 3504.|        12.0|   70|    US|\n",
      "|   Buick Skylark 320|15.0|        8|       350.0|     165.0| 3693.|        11.5|   70|    US|\n",
      "|  Plymouth Satellite|18.0|        8|       318.0|     150.0| 3436.|        11.0|   70|    US|\n",
      "|       AMC Rebel SST|16.0|        8|       304.0|     150.0| 3433.|        12.0|   70|    US|\n",
      "|         Ford Torino|17.0|        8|       302.0|     140.0| 3449.|        10.5|   70|    US|\n",
      "+--------------------+----+---------+------------+----------+------+------------+-----+------+\n",
      "only showing top 5 rows\n",
      "\n"
     ]
    }
   ],
   "source": [
    "df = spark.read.csv('cars.csv', header=True, sep=\";\")\n",
    "df.show(5)"
   ]
  },
  {
   "cell_type": "markdown",
   "id": "2afd6c8d-ec24-414c-90bd-4f001c726b8f",
   "metadata": {},
   "source": [
    "<a id='operaciones-del-marco-de-datos-en-filas'></a>\n",
    "## Operaciones de DataFrame en filas\n",
    "\n",
    "Discutiremos lo siguiente en esta sección:\n",
    "1. Filtrado de Filas\n",
    "2. Obtener Filas Distintas\n",
    "3. Orden de filas\n",
    "4. Uniones de dataframes\n",
    "\n",
    "<a id='filtrado-filas'></a>\n",
    "### Filtrado de filas"
   ]
  },
  {
   "cell_type": "code",
   "execution_count": 8,
   "id": "b720f74b-be77-4bc7-a173-288baf63e3ab",
   "metadata": {},
   "outputs": [
    {
     "name": "stdout",
     "output_type": "stream",
     "text": [
      "TOTAL RECORD COUNT: 406\n",
      "EUROPE FILTERED RECORD COUNT: 73\n",
      "+----------------------------+----+---------+------------+----------+------+------------+-----+------+\n",
      "|Car                         |MPG |Cylinders|Displacement|Horsepower|Weight|Acceleration|Model|Origin|\n",
      "+----------------------------+----+---------+------------+----------+------+------------+-----+------+\n",
      "|Citroen DS-21 Pallas        |0   |4        |133.0       |115.0     |3090. |17.5        |70   |Europe|\n",
      "|Volkswagen 1131 Deluxe Sedan|26.0|4        |97.00       |46.00     |1835. |20.5        |70   |Europe|\n",
      "|Peugeot 504                 |25.0|4        |110.0       |87.00     |2672. |17.5        |70   |Europe|\n",
      "|Audi 100 LS                 |24.0|4        |107.0       |90.00     |2430. |14.5        |70   |Europe|\n",
      "|Saab 99e                    |25.0|4        |104.0       |95.00     |2375. |17.5        |70   |Europe|\n",
      "|BMW 2002                    |26.0|4        |121.0       |113.0     |2234. |12.5        |70   |Europe|\n",
      "|Volkswagen Super Beetle 117 |0   |4        |97.00       |48.00     |1978. |20.0        |71   |Europe|\n",
      "|Opel 1900                   |28.0|4        |116.0       |90.00     |2123. |14.0        |71   |Europe|\n",
      "|Peugeot 304                 |30.0|4        |79.00       |70.00     |2074. |19.5        |71   |Europe|\n",
      "|Fiat 124B                   |30.0|4        |88.00       |76.00     |2065. |14.5        |71   |Europe|\n",
      "|Volkswagen Model 111        |27.0|4        |97.00       |60.00     |1834. |19.0        |71   |Europe|\n",
      "|Volkswagen Type 3           |23.0|4        |97.00       |54.00     |2254. |23.5        |72   |Europe|\n",
      "|Volvo 145e (sw)             |18.0|4        |121.0       |112.0     |2933. |14.5        |72   |Europe|\n",
      "|Volkswagen 411 (sw)         |22.0|4        |121.0       |76.00     |2511. |18.0        |72   |Europe|\n",
      "|Peugeot 504 (sw)            |21.0|4        |120.0       |87.00     |2979. |19.5        |72   |Europe|\n",
      "|Renault 12 (sw)             |26.0|4        |96.00       |69.00     |2189. |18.0        |72   |Europe|\n",
      "|Volkswagen Super Beetle     |26.0|4        |97.00       |46.00     |1950. |21.0        |73   |Europe|\n",
      "|Fiat 124 Sport Coupe        |26.0|4        |98.00       |90.00     |2265. |15.5        |73   |Europe|\n",
      "|Fiat 128                    |29.0|4        |68.00       |49.00     |1867. |19.5        |73   |Europe|\n",
      "|Opel Manta                  |24.0|4        |116.0       |75.00     |2158. |15.5        |73   |Europe|\n",
      "+----------------------------+----+---------+------------+----------+------+------------+-----+------+\n",
      "only showing top 20 rows\n",
      "\n"
     ]
    }
   ],
   "source": [
    "# Filtering rows in PySpark\n",
    "total_count = df.count()\n",
    "print(\"TOTAL RECORD COUNT: \" + str(total_count)) \n",
    "europe_filtered_count = df.filter(col('Origin')=='Europe').count()\n",
    "print(\"EUROPE FILTERED RECORD COUNT: \" + str(europe_filtered_count))\n",
    "df.filter(col('Origin')=='Europe').show(truncate=False)"
   ]
  },
  {
   "cell_type": "code",
   "execution_count": 9,
   "id": "d9fe6e7a-ac64-46dd-b2e3-089c9b0fd2e7",
   "metadata": {},
   "outputs": [
    {
     "name": "stdout",
     "output_type": "stream",
     "text": [
      "TOTAL RECORD COUNT: 406\n",
      "EUROPE FILTERED RECORD COUNT: 66\n",
      "+----------------------------+----+---------+------------+----------+------+------------+-----+------+\n",
      "|Car                         |MPG |Cylinders|Displacement|Horsepower|Weight|Acceleration|Model|Origin|\n",
      "+----------------------------+----+---------+------------+----------+------+------------+-----+------+\n",
      "|Citroen DS-21 Pallas        |0   |4        |133.0       |115.0     |3090. |17.5        |70   |Europe|\n",
      "|Volkswagen 1131 Deluxe Sedan|26.0|4        |97.00       |46.00     |1835. |20.5        |70   |Europe|\n",
      "|Peugeot 504                 |25.0|4        |110.0       |87.00     |2672. |17.5        |70   |Europe|\n",
      "|Audi 100 LS                 |24.0|4        |107.0       |90.00     |2430. |14.5        |70   |Europe|\n",
      "|Saab 99e                    |25.0|4        |104.0       |95.00     |2375. |17.5        |70   |Europe|\n",
      "|BMW 2002                    |26.0|4        |121.0       |113.0     |2234. |12.5        |70   |Europe|\n",
      "|Volkswagen Super Beetle 117 |0   |4        |97.00       |48.00     |1978. |20.0        |71   |Europe|\n",
      "|Opel 1900                   |28.0|4        |116.0       |90.00     |2123. |14.0        |71   |Europe|\n",
      "|Peugeot 304                 |30.0|4        |79.00       |70.00     |2074. |19.5        |71   |Europe|\n",
      "|Fiat 124B                   |30.0|4        |88.00       |76.00     |2065. |14.5        |71   |Europe|\n",
      "|Volkswagen Model 111        |27.0|4        |97.00       |60.00     |1834. |19.0        |71   |Europe|\n",
      "|Volkswagen Type 3           |23.0|4        |97.00       |54.00     |2254. |23.5        |72   |Europe|\n",
      "|Volvo 145e (sw)             |18.0|4        |121.0       |112.0     |2933. |14.5        |72   |Europe|\n",
      "|Volkswagen 411 (sw)         |22.0|4        |121.0       |76.00     |2511. |18.0        |72   |Europe|\n",
      "|Peugeot 504 (sw)            |21.0|4        |120.0       |87.00     |2979. |19.5        |72   |Europe|\n",
      "|Renault 12 (sw)             |26.0|4        |96.00       |69.00     |2189. |18.0        |72   |Europe|\n",
      "|Volkswagen Super Beetle     |26.0|4        |97.00       |46.00     |1950. |21.0        |73   |Europe|\n",
      "|Fiat 124 Sport Coupe        |26.0|4        |98.00       |90.00     |2265. |15.5        |73   |Europe|\n",
      "|Fiat 128                    |29.0|4        |68.00       |49.00     |1867. |19.5        |73   |Europe|\n",
      "|Opel Manta                  |24.0|4        |116.0       |75.00     |2158. |15.5        |73   |Europe|\n",
      "+----------------------------+----+---------+------------+----------+------+------------+-----+------+\n",
      "only showing top 20 rows\n",
      "\n"
     ]
    }
   ],
   "source": [
    "# Filtering rows in PySpark based on Multiple conditions\n",
    "total_count = df.count()\n",
    "print(\"TOTAL RECORD COUNT: \" + str(total_count)) \n",
    "europe_filtered_count = df.filter((col('Origin')=='Europe') & \n",
    "                                  (col('Cylinders')==4)).count() # Two conditions added here\n",
    "print(\"EUROPE FILTERED RECORD COUNT: \" + str(europe_filtered_count))\n",
    "df.filter(col('Origin')=='Europe').show(truncate=False)"
   ]
  },
  {
   "cell_type": "markdown",
   "id": "8037053e-8c19-426d-a897-3bbc1e5808bf",
   "metadata": {},
   "source": [
    "<a id='obtener-filas-distintas'></a>\n",
    "### Obtener filas distintas"
   ]
  },
  {
   "cell_type": "code",
   "execution_count": 10,
   "id": "bf6118d6-e497-470c-a112-cc2f4f1d95ff",
   "metadata": {},
   "outputs": [
    {
     "name": "stdout",
     "output_type": "stream",
     "text": [
      "+------+\n",
      "|Origin|\n",
      "+------+\n",
      "|Europe|\n",
      "|    US|\n",
      "| Japan|\n",
      "+------+\n",
      "\n"
     ]
    }
   ],
   "source": [
    "#Get Unique Rows in PySpark\n",
    "df.select('Origin').distinct().show()"
   ]
  },
  {
   "cell_type": "code",
   "execution_count": 11,
   "id": "c82b18df-6ef8-4986-85f5-d373abb8ab94",
   "metadata": {},
   "outputs": [
    {
     "name": "stdout",
     "output_type": "stream",
     "text": [
      "+------+-----+\n",
      "|Origin|model|\n",
      "+------+-----+\n",
      "| Japan|   76|\n",
      "|    US|   81|\n",
      "|    US|   80|\n",
      "|    US|   76|\n",
      "| Japan|   70|\n",
      "|    US|   78|\n",
      "|Europe|   76|\n",
      "|    US|   70|\n",
      "| Japan|   75|\n",
      "|Europe|   80|\n",
      "| Japan|   77|\n",
      "|Europe|   72|\n",
      "|    US|   75|\n",
      "|    US|   79|\n",
      "|    US|   82|\n",
      "|Europe|   75|\n",
      "| Japan|   78|\n",
      "|    US|   71|\n",
      "| Japan|   82|\n",
      "| Japan|   80|\n",
      "+------+-----+\n",
      "only showing top 20 rows\n",
      "\n"
     ]
    }
   ],
   "source": [
    "#Get Unique Rows in PySpark based on mutliple columns\n",
    "df.select('Origin','model').distinct().show()"
   ]
  },
  {
   "cell_type": "markdown",
   "id": "3e8d2b1b-f561-45b4-b034-8050eaf7062a",
   "metadata": {},
   "source": [
    "<a id='ordenar-filas'></a>\n",
    "### Orden de filas"
   ]
  },
  {
   "cell_type": "code",
   "execution_count": 12,
   "id": "5e24fb73-40bc-4803-836e-833d4015545a",
   "metadata": {},
   "outputs": [
    {
     "name": "stdout",
     "output_type": "stream",
     "text": [
      "+----------------------------+----+---------+------------+----------+------+------------+-----+------+\n",
      "|Car                         |MPG |Cylinders|Displacement|Horsepower|Weight|Acceleration|Model|Origin|\n",
      "+----------------------------+----+---------+------------+----------+------+------------+-----+------+\n",
      "|Mazda RX-4                  |21.5|3        |80.00       |110.0     |2720. |13.5        |77   |Japan |\n",
      "|Mazda RX-7 GS               |23.7|3        |70.00       |100.0     |2420. |12.5        |80   |Japan |\n",
      "|Mazda RX2 Coupe             |19.0|3        |70.00       |97.00     |2330. |13.5        |72   |Japan |\n",
      "|Mazda RX3                   |18.0|3        |70.00       |90.00     |2124. |13.5        |73   |Japan |\n",
      "|Datsun 510 (sw)             |28.0|4        |97.00       |92.00     |2288. |17.0        |72   |Japan |\n",
      "|Opel 1900                   |28.0|4        |116.0       |90.00     |2123. |14.0        |71   |Europe|\n",
      "|Mercury Capri 2000          |23.0|4        |122.0       |86.00     |2220. |14.0        |71   |US    |\n",
      "|Volkswagen 1131 Deluxe Sedan|26.0|4        |97.00       |46.00     |1835. |20.5        |70   |Europe|\n",
      "|Peugeot 304                 |30.0|4        |79.00       |70.00     |2074. |19.5        |71   |Europe|\n",
      "|Fiat 124B                   |30.0|4        |88.00       |76.00     |2065. |14.5        |71   |Europe|\n",
      "|Chevrolet Vega (sw)         |22.0|4        |140.0       |72.00     |2408. |19.0        |71   |US    |\n",
      "|Datsun 1200                 |35.0|4        |72.00       |69.00     |1613. |18.0        |71   |Japan |\n",
      "|Volkswagen Model 111        |27.0|4        |97.00       |60.00     |1834. |19.0        |71   |Europe|\n",
      "|Volkswagen Type 3           |23.0|4        |97.00       |54.00     |2254. |23.5        |72   |Europe|\n",
      "|Audi 100 LS                 |24.0|4        |107.0       |90.00     |2430. |14.5        |70   |Europe|\n",
      "|BMW 2002                    |26.0|4        |121.0       |113.0     |2234. |12.5        |70   |Europe|\n",
      "|Toyota Corolla 1200         |31.0|4        |71.00       |65.00     |1773. |19.0        |71   |Japan |\n",
      "|Chevrolet Vega 2300         |28.0|4        |140.0       |90.00     |2264. |15.5        |71   |US    |\n",
      "|Ford Pinto                  |25.0|4        |98.00       |0         |2046. |19.0        |71   |US    |\n",
      "|Dodge Colt Hardtop          |25.0|4        |97.50       |80.00     |2126. |17.0        |72   |US    |\n",
      "+----------------------------+----+---------+------------+----------+------+------------+-----+------+\n",
      "only showing top 20 rows\n",
      "\n"
     ]
    }
   ],
   "source": [
    "# Sort Rows in PySpark\n",
    "# By default the data will be sorted in ascending order\n",
    "df.orderBy('Cylinders').show(truncate=False) "
   ]
  },
  {
   "cell_type": "code",
   "execution_count": 13,
   "id": "7f1a12ff-428b-48c4-83b9-9f88f0bacaa1",
   "metadata": {},
   "outputs": [
    {
     "name": "stdout",
     "output_type": "stream",
     "text": [
      "+-------------------------+----+---------+------------+----------+------+------------+-----+------+\n",
      "|Car                      |MPG |Cylinders|Displacement|Horsepower|Weight|Acceleration|Model|Origin|\n",
      "+-------------------------+----+---------+------------+----------+------+------------+-----+------+\n",
      "|Plymouth 'Cuda 340       |14.0|8        |340.0       |160.0     |3609. |8.0         |70   |US    |\n",
      "|Pontiac Safari (sw)      |13.0|8        |400.0       |175.0     |5140. |12.0        |71   |US    |\n",
      "|Ford Mustang Boss 302    |0   |8        |302.0       |140.0     |3353. |8.0         |70   |US    |\n",
      "|Buick Skylark 320        |15.0|8        |350.0       |165.0     |3693. |11.5        |70   |US    |\n",
      "|Chevrolet Monte Carlo    |15.0|8        |400.0       |150.0     |3761. |9.5         |70   |US    |\n",
      "|AMC Rebel SST            |16.0|8        |304.0       |150.0     |3433. |12.0        |70   |US    |\n",
      "|Buick Estate Wagon (sw)  |14.0|8        |455.0       |225.0     |3086. |10.0        |70   |US    |\n",
      "|Ford Galaxie 500         |15.0|8        |429.0       |198.0     |4341. |10.0        |70   |US    |\n",
      "|Ford F250                |10.0|8        |360.0       |215.0     |4615. |14.0        |70   |US    |\n",
      "|Plymouth Fury iii        |14.0|8        |440.0       |215.0     |4312. |8.5         |70   |US    |\n",
      "|Chevy C20                |10.0|8        |307.0       |200.0     |4376. |15.0        |70   |US    |\n",
      "|AMC Ambassador DPL       |15.0|8        |390.0       |190.0     |3850. |8.5         |70   |US    |\n",
      "|Dodge D200               |11.0|8        |318.0       |210.0     |4382. |13.5        |70   |US    |\n",
      "|Ford Torino (sw)         |0   |8        |351.0       |153.0     |4034. |11.0        |70   |US    |\n",
      "|Hi 1200D                 |9.0 |8        |304.0       |193.0     |4732. |18.5        |70   |US    |\n",
      "|AMC Rebel SST (sw)       |0   |8        |360.0       |175.0     |3850. |11.0        |70   |US    |\n",
      "|Chevrolet Impala         |14.0|8        |350.0       |165.0     |4209. |12.0        |71   |US    |\n",
      "|Chevrolet Chevelle Malibu|18.0|8        |307.0       |130.0     |3504. |12.0        |70   |US    |\n",
      "|Pontiac Catalina Brougham|14.0|8        |400.0       |175.0     |4464. |11.5        |71   |US    |\n",
      "|Ford Torino              |17.0|8        |302.0       |140.0     |3449. |10.5        |70   |US    |\n",
      "+-------------------------+----+---------+------------+----------+------+------------+-----+------+\n",
      "only showing top 20 rows\n",
      "\n"
     ]
    }
   ],
   "source": [
    "# To change the sorting order, you can use the ascending parameter\n",
    "df.orderBy('Cylinders', ascending=False).show(truncate=False) "
   ]
  },
  {
   "cell_type": "code",
   "execution_count": 14,
   "id": "5182c179-4de3-42ea-bed4-045110df9a35",
   "metadata": {},
   "outputs": [
    {
     "name": "stdout",
     "output_type": "stream",
     "text": [
      "+------+-----+\n",
      "|Origin|count|\n",
      "+------+-----+\n",
      "|    US|  254|\n",
      "| Japan|   79|\n",
      "|Europe|   73|\n",
      "+------+-----+\n",
      "\n"
     ]
    }
   ],
   "source": [
    "# Using groupBy aand orderBy together\n",
    "df.groupBy(\"Origin\").count().orderBy('count', ascending=False).show(10)"
   ]
  },
  {
   "cell_type": "markdown",
   "id": "81b9d4d8-875f-4028-8795-9b3df2c2ee87",
   "metadata": {},
   "source": [
    "<a id='union-dataframes'></a>\n",
    "### Uniones de dataframes\n",
    "\n",
    "Verá tres métodos principales para realizar la unión de dataframes. Es importante saber la diferencia entre ellos y cuál es el preferido:\n",
    "\n",
    "* `union()`: se utiliza para fusionar dos DataFrames de la misma estructura/esquema. Si los esquemas no son iguales, devuelve un error.\n",
    "* `unionAll()`: esta función está en desuso desde Spark 2.0.0 y se reemplazó con union()\n",
    "* `unionByName()`: esta función se usa para fusionar dos dataframes según el nombre de la columna.\n",
    "\n",
    "> Dado que `unionAll()` está en desuso, **`union()` es el método preferido para fusionar dataframes.**\n",
    "<br>\n",
    "> La diferencia entre `unionByName()` y `union()` es que `unionByName()` resuelve las columnas por nombre, no por posición.\n",
    "\n",
    "En otros SQL, Union elimina los duplicados, pero UnionAll fusiona dos conjuntos de datos, por lo que incluye registros duplicados. Pero, en PySpark, ambos se comportan igual e incluyen registros duplicados. La recomendación es utilizar `distinct()` o `dropDuplicates()` para eliminar registros duplicados."
   ]
  },
  {
   "cell_type": "code",
   "execution_count": 18,
   "id": "c94d2797-c7d6-459f-a785-5794600bc09e",
   "metadata": {},
   "outputs": [
    {
     "name": "stdout",
     "output_type": "stream",
     "text": [
      "+-------------------+----+---------+------------+----------+------+------------+-----+------+\n",
      "|                Car| MPG|Cylinders|Displacement|Horsepower|Weight|Acceleration|Model|Origin|\n",
      "+-------------------+----+---------+------------+----------+------+------------+-----+------+\n",
      "|          Audi 5000|20.3|        5|       131.0|     103.0|  2830|        15.9|   78|Europe|\n",
      "| Mercedes Benz 300d|25.4|        5|       183.0|      77.0|  3530|        20.1|   79|Europe|\n",
      "|Audi 5000s (diesel)|36.4|        5|       121.0|      67.0|  2950|        19.9|   80|Europe|\n",
      "+-------------------+----+---------+------------+----------+------+------------+-----+------+\n",
      "\n"
     ]
    }
   ],
   "source": [
    "# CASE 1: Union When columns are in order\n",
    "df = spark.read.csv('cars.csv', header=True, sep=\";\", inferSchema=True)\n",
    "europe_cars = df.filter((col('Origin')=='Europe') & (col('Cylinders')==5))\n",
    "europe_cars.show()"
   ]
  },
  {
   "cell_type": "code",
   "execution_count": 20,
   "id": "31207567-1e04-483b-8f61-7007c86f4e0f",
   "metadata": {},
   "outputs": [
    {
     "name": "stdout",
     "output_type": "stream",
     "text": [
      "+---------------+----+---------+------------+----------+------+------------+-----+------+\n",
      "|            Car| MPG|Cylinders|Displacement|Horsepower|Weight|Acceleration|Model|Origin|\n",
      "+---------------+----+---------+------------+----------+------+------------+-----+------+\n",
      "|Mazda RX2 Coupe|19.0|        3|        70.0|      97.0|  2330|        13.5|   72| Japan|\n",
      "|      Mazda RX3|18.0|        3|        70.0|      90.0|  2124|        13.5|   73| Japan|\n",
      "|     Mazda RX-4|21.5|        3|        80.0|     110.0|  2720|        13.5|   77| Japan|\n",
      "|  Mazda RX-7 GS|23.7|        3|        70.0|     100.0|  2420|        12.5|   80| Japan|\n",
      "+---------------+----+---------+------------+----------+------+------------+-----+------+\n",
      "\n"
     ]
    }
   ],
   "source": [
    "japan_cars = df.filter((col('Origin')=='Japan') & (col('Cylinders')==3))\n",
    "japan_cars.show()"
   ]
  },
  {
   "cell_type": "code",
   "execution_count": 21,
   "id": "f6312b5c-8c74-418c-a888-a32db06b74dc",
   "metadata": {},
   "outputs": [
    {
     "name": "stdout",
     "output_type": "stream",
     "text": [
      "EUROPE CARS: 3\n",
      "JAPAN CARS: 4\n",
      "AFTER UNION: 7\n"
     ]
    }
   ],
   "source": [
    "print(\"EUROPE CARS: \"+str(europe_cars.count()))\n",
    "print(\"JAPAN CARS: \"+str(japan_cars.count()))\n",
    "print(\"AFTER UNION: \"+str(europe_cars.union(japan_cars).count()))"
   ]
  },
  {
   "cell_type": "code",
   "execution_count": 23,
   "id": "c261668a-1d90-4c3e-8c15-50ba427b2345",
   "metadata": {},
   "outputs": [
    {
     "name": "stdout",
     "output_type": "stream",
     "text": [
      "+-------------------+----+---------+------------+----------+------+------------+-----+------+\n",
      "|                Car| MPG|Cylinders|Displacement|Horsepower|Weight|Acceleration|Model|Origin|\n",
      "+-------------------+----+---------+------------+----------+------+------------+-----+------+\n",
      "|          Audi 5000|20.3|        5|       131.0|     103.0|  2830|        15.9|   78|Europe|\n",
      "| Mercedes Benz 300d|25.4|        5|       183.0|      77.0|  3530|        20.1|   79|Europe|\n",
      "|Audi 5000s (diesel)|36.4|        5|       121.0|      67.0|  2950|        19.9|   80|Europe|\n",
      "|    Mazda RX2 Coupe|19.0|        3|        70.0|      97.0|  2330|        13.5|   72| Japan|\n",
      "|          Mazda RX3|18.0|        3|        70.0|      90.0|  2124|        13.5|   73| Japan|\n",
      "|         Mazda RX-4|21.5|        3|        80.0|     110.0|  2720|        13.5|   77| Japan|\n",
      "|      Mazda RX-7 GS|23.7|        3|        70.0|     100.0|  2420|        12.5|   80| Japan|\n",
      "+-------------------+----+---------+------------+----------+------+------------+-----+------+\n",
      "\n"
     ]
    }
   ],
   "source": [
    "europe_cars.union(japan_cars).show()"
   ]
  },
  {
   "cell_type": "markdown",
   "id": "2c9cc8c5-4934-42c1-a6f7-ffce43663200",
   "metadata": {},
   "source": [
    "**Resultado:**\n",
    "\n",
    "> Como puede ver aquí, había 3 autos de Europa con 5 Cilindros y 4 autos de Japón con 3 Cilindros. Después de la unión, hay 7 autos en total."
   ]
  },
  {
   "cell_type": "code",
   "execution_count": 24,
   "id": "ded785bd-7444-4ec5-8b0b-bc7fe1e8b42d",
   "metadata": {},
   "outputs": [
    {
     "name": "stdout",
     "output_type": "stream",
     "text": [
      "+----+----+----+\n",
      "|col0|col1|col2|\n",
      "+----+----+----+\n",
      "|   1|   2|   3|\n",
      "|   6|   4|   5|\n",
      "+----+----+----+\n",
      "\n"
     ]
    }
   ],
   "source": [
    "# CASE 1: Union When columns are not in order\n",
    "# Creating two dataframes with jumbled columns\n",
    "df1 = spark.createDataFrame([[1, 2, 3]], [\"col0\", \"col1\", \"col2\"])\n",
    "df2 = spark.createDataFrame([[4, 5, 6]], [\"col1\", \"col2\", \"col0\"])\n",
    "df1.unionByName(df2).show()"
   ]
  },
  {
   "cell_type": "markdown",
   "id": "4b69daa6-9de2-4e13-9be6-bf6117b934ff",
   "metadata": {},
   "source": [
    "**Resultado:**\n",
    "\n",
    "> Como puede ver aquí, los dos dataframes se han fusionado con éxito en función de sus nombres de columna."
   ]
  },
  {
   "cell_type": "markdown",
   "id": "d8bf65b7-af02-4471-9ea8-95d181365c9f",
   "metadata": {},
   "source": [
    "<a id='funciones-de-manipulación-de-datos-comunes'></a>\n",
    "## Funciones comunes de manipulación de datos"
   ]
  },
  {
   "cell_type": "code",
   "execution_count": 25,
   "id": "1d42f59c-e7fa-462b-9af1-454bc3cecea4",
   "metadata": {},
   "outputs": [
    {
     "name": "stdout",
     "output_type": "stream",
     "text": [
      "['Column', 'DataFrame', 'DataType', 'PandasUDFType', 'PythonEvalType', 'SparkContext', 'StringType', 'UserDefinedFunction', '__builtins__', '__cached__', '__doc__', '__file__', '__loader__', '__name__', '__package__', '__spec__', '_create_column_from_literal', '_create_lambda', '_create_udf', '_get_get_jvm_function', '_get_lambda_parameters', '_invoke_binary_math_function', '_invoke_function', '_invoke_function_over_column', '_invoke_higher_order_function', '_options_to_str', '_test', '_to_java_column', '_to_seq', '_unresolved_named_lambda_variable', 'abs', 'acos', 'acosh', 'add_months', 'aggregate', 'approxCountDistinct', 'approx_count_distinct', 'array', 'array_contains', 'array_distinct', 'array_except', 'array_intersect', 'array_join', 'array_max', 'array_min', 'array_position', 'array_remove', 'array_repeat', 'array_sort', 'array_union', 'arrays_overlap', 'arrays_zip', 'asc', 'asc_nulls_first', 'asc_nulls_last', 'ascii', 'asin', 'asinh', 'assert_true', 'atan', 'atan2', 'atanh', 'avg', 'base64', 'bin', 'bitwiseNOT', 'bitwise_not', 'broadcast', 'bround', 'bucket', 'cbrt', 'ceil', 'coalesce', 'col', 'collect_list', 'collect_set', 'column', 'concat', 'concat_ws', 'conv', 'corr', 'cos', 'cosh', 'count', 'countDistinct', 'count_distinct', 'covar_pop', 'covar_samp', 'crc32', 'create_map', 'cume_dist', 'current_date', 'current_timestamp', 'date_add', 'date_format', 'date_sub', 'date_trunc', 'datediff', 'dayofmonth', 'dayofweek', 'dayofyear', 'days', 'decode', 'degrees', 'dense_rank', 'desc', 'desc_nulls_first', 'desc_nulls_last', 'element_at', 'encode', 'exists', 'exp', 'explode', 'explode_outer', 'expm1', 'expr', 'factorial', 'filter', 'first', 'flatten', 'floor', 'forall', 'format_number', 'format_string', 'from_csv', 'from_json', 'from_unixtime', 'from_utc_timestamp', 'functools', 'get_json_object', 'greatest', 'grouping', 'grouping_id', 'hash', 'hex', 'hour', 'hours', 'hypot', 'initcap', 'input_file_name', 'instr', 'isnan', 'isnull', 'json_tuple', 'kurtosis', 'lag', 'last', 'last_day', 'lead', 'least', 'length', 'levenshtein', 'lit', 'locate', 'log', 'log10', 'log1p', 'log2', 'lower', 'lpad', 'ltrim', 'map_concat', 'map_entries', 'map_filter', 'map_from_arrays', 'map_from_entries', 'map_keys', 'map_values', 'map_zip_with', 'max', 'md5', 'mean', 'min', 'minute', 'monotonically_increasing_id', 'month', 'months', 'months_between', 'nanvl', 'next_day', 'nth_value', 'ntile', 'overlay', 'pandas_udf', 'percent_rank', 'percentile_approx', 'posexplode', 'posexplode_outer', 'pow', 'product', 'quarter', 'radians', 'raise_error', 'rand', 'randn', 'rank', 'regexp_extract', 'regexp_replace', 'repeat', 'reverse', 'rint', 'round', 'row_number', 'rpad', 'rtrim', 'schema_of_csv', 'schema_of_json', 'second', 'sentences', 'sequence', 'session_window', 'sha1', 'sha2', 'shiftLeft', 'shiftRight', 'shiftRightUnsigned', 'shiftleft', 'shiftright', 'shiftrightunsigned', 'shuffle', 'signum', 'sin', 'since', 'sinh', 'size', 'skewness', 'slice', 'sort_array', 'soundex', 'spark_partition_id', 'split', 'sqrt', 'stddev', 'stddev_pop', 'stddev_samp', 'struct', 'substring', 'substring_index', 'sum', 'sumDistinct', 'sum_distinct', 'sys', 'tan', 'tanh', 'timestamp_seconds', 'toDegrees', 'toRadians', 'to_csv', 'to_date', 'to_json', 'to_str', 'to_timestamp', 'to_utc_timestamp', 'transform', 'transform_keys', 'transform_values', 'translate', 'trim', 'trunc', 'udf', 'unbase64', 'unhex', 'unix_timestamp', 'upper', 'var_pop', 'var_samp', 'variance', 'warnings', 'weekofyear', 'when', 'window', 'xxhash64', 'year', 'years', 'zip_with']\n"
     ]
    }
   ],
   "source": [
    "# Functions available in PySpark\n",
    "from pyspark.sql import functions\n",
    "# Similar to python, we can use the dir function to view the avaiable functions\n",
    "print(dir(functions)) "
   ]
  },
  {
   "cell_type": "markdown",
   "id": "4d889dea-aebc-4078-b19b-ff53823851cf",
   "metadata": {},
   "source": [
    "<a id='string-functions'></a>\n",
    "### String Functions"
   ]
  },
  {
   "cell_type": "code",
   "execution_count": 26,
   "id": "fa85a854-5b64-44b2-9b27-515c9f5adaf5",
   "metadata": {},
   "outputs": [],
   "source": [
    "# Loading the data\n",
    "from pyspark.sql.functions import col\n",
    "df = spark.read.csv('cars.csv', header=True, sep=\";\", inferSchema=True)"
   ]
  },
  {
   "cell_type": "markdown",
   "id": "544d0b98-6f36-4549-97c6-dec7be7b62db",
   "metadata": {},
   "source": [
    "**Mostrar la columna Car en minúscula y mayúscula, y los primeros 4 caracteres de la columna**"
   ]
  },
  {
   "cell_type": "code",
   "execution_count": 33,
   "id": "1ee5bc46-541c-40a3-ab60-59ae5a2d1759",
   "metadata": {},
   "outputs": [
    {
     "name": "stdout",
     "output_type": "stream",
     "text": [
      "Help on function substring in module pyspark.sql.functions:\n",
      "\n",
      "substring(str, pos, len)\n",
      "    Substring starts at `pos` and is of length `len` when str is String type or\n",
      "    returns the slice of byte array that starts at `pos` in byte and is of length `len`\n",
      "    when str is Binary type.\n",
      "    \n",
      "    .. versionadded:: 1.5.0\n",
      "    \n",
      "    Notes\n",
      "    -----\n",
      "    The position is not zero based, but 1 based index.\n",
      "    \n",
      "    Examples\n",
      "    --------\n",
      "    >>> df = spark.createDataFrame([('abcd',)], ['s',])\n",
      "    >>> df.select(substring(df.s, 1, 2).alias('s')).collect()\n",
      "    [Row(s='ab')]\n",
      "\n"
     ]
    }
   ],
   "source": [
    "from pyspark.sql.functions import col,lower, upper, substring, lit\n",
    "# Prints out the details of a function\n",
    "help(substring)\n"
   ]
  },
  {
   "cell_type": "code",
   "execution_count": 34,
   "id": "6ef22865-f7f1-4845-bcb2-9345c330d935",
   "metadata": {},
   "outputs": [
    {
     "name": "stdout",
     "output_type": "stream",
     "text": [
      "+-------------------------+-------------------------+-------------------------+------------------+\n",
      "|Car                      |lower(Car)               |upper(Car)               |concatenated value|\n",
      "+-------------------------+-------------------------+-------------------------+------------------+\n",
      "|Chevrolet Chevelle Malibu|chevrolet chevelle malibu|CHEVROLET CHEVELLE MALIBU|Chev              |\n",
      "|Buick Skylark 320        |buick skylark 320        |BUICK SKYLARK 320        |Buic              |\n",
      "|Plymouth Satellite       |plymouth satellite       |PLYMOUTH SATELLITE       |Plym              |\n",
      "|AMC Rebel SST            |amc rebel sst            |AMC REBEL SST            |AMC               |\n",
      "|Ford Torino              |ford torino              |FORD TORINO              |Ford              |\n",
      "+-------------------------+-------------------------+-------------------------+------------------+\n",
      "only showing top 5 rows\n",
      "\n"
     ]
    }
   ],
   "source": [
    "# alias is used to rename the column name in the output\n",
    "df.select(col('Car'),lower(col('Car')),upper(col('Car')),substring(col('Car'),1,4).alias(\"concatenated value\")).show(5, False)"
   ]
  },
  {
   "cell_type": "markdown",
   "id": "89f1eb07-5f44-4144-bb7a-9b8a79febf92",
   "metadata": {},
   "source": [
    "**Concatene la columna Car y Model y agregue un espacio entre ellas.**"
   ]
  },
  {
   "cell_type": "code",
   "execution_count": 35,
   "id": "66cd02b1-fbd3-42eb-b32e-1e1fb54f8a7d",
   "metadata": {},
   "outputs": [
    {
     "name": "stdout",
     "output_type": "stream",
     "text": [
      "+-------------------------+-----+----------------------------+\n",
      "|Car                      |model|concat(Car,  , model)       |\n",
      "+-------------------------+-----+----------------------------+\n",
      "|Chevrolet Chevelle Malibu|70   |Chevrolet Chevelle Malibu 70|\n",
      "|Buick Skylark 320        |70   |Buick Skylark 320 70        |\n",
      "|Plymouth Satellite       |70   |Plymouth Satellite 70       |\n",
      "|AMC Rebel SST            |70   |AMC Rebel SST 70            |\n",
      "|Ford Torino              |70   |Ford Torino 70              |\n",
      "+-------------------------+-----+----------------------------+\n",
      "only showing top 5 rows\n",
      "\n"
     ]
    }
   ],
   "source": [
    "from pyspark.sql.functions import concat\n",
    "df.select(col(\"Car\"),col(\"model\"),concat(col(\"Car\"), lit(\" \"), col(\"model\"))).show(5, False)"
   ]
  },
  {
   "cell_type": "markdown",
   "id": "3429cf70-79f9-4576-978e-b4dcf9fc7c39",
   "metadata": {},
   "source": [
    "<a id='funciones-numéricas'></a>\n",
    "### Funciones numéricas\n",
    "\n",
    "**Mostrar el carro más liviano y el carro más pesado**"
   ]
  },
  {
   "cell_type": "code",
   "execution_count": 38,
   "id": "2ac00fc2-8e1e-44b8-9935-cf84405c0b1d",
   "metadata": {},
   "outputs": [
    {
     "name": "stdout",
     "output_type": "stream",
     "text": [
      "+-----------+-----------+\n",
      "|min(Weight)|max(Weight)|\n",
      "+-----------+-----------+\n",
      "|       1613|       5140|\n",
      "+-----------+-----------+\n",
      "\n"
     ]
    }
   ],
   "source": [
    "from pyspark.sql.functions import min, max\n",
    "df.select(min(col('Weight')), max(col('Weight'))).show()"
   ]
  },
  {
   "cell_type": "markdown",
   "id": "899432c1-044f-49e2-87d1-f46fe0741d81",
   "metadata": {},
   "source": [
    "**Suma 10 al peso mínimo y máximo**from pyspark.sql.functions import min, max, lit\n",
    "df.select(min(col('Weight'))+lit(10), max(col('Weight')+lit(10))).show()"
   ]
  },
  {
   "cell_type": "code",
   "execution_count": 39,
   "id": "217b8f7b-cd10-4285-87ab-81e867d7e594",
   "metadata": {},
   "outputs": [
    {
     "name": "stdout",
     "output_type": "stream",
     "text": [
      "+------------------+------------------+\n",
      "|(min(Weight) + 10)|max((Weight + 10))|\n",
      "+------------------+------------------+\n",
      "|              1623|              5150|\n",
      "+------------------+------------------+\n",
      "\n"
     ]
    }
   ],
   "source": [
    "from pyspark.sql.functions import min, max, lit\n",
    "df.select(min(col('Weight'))+lit(10), max(col('Weight')+lit(10))).show()"
   ]
  },
  {
   "cell_type": "markdown",
   "id": "392615e9-a6a7-4c44-81ec-68b545614900",
   "metadata": {},
   "source": [
    "<a id='operaciones-en-fecha'></a>\n",
    "### Operaciones con fechas"
   ]
  },
  {
   "cell_type": "markdown",
   "id": "deeb42bc-4614-4a6e-a6c5-e0b1da55610e",
   "metadata": {},
   "source": [
    "> [PySpark sigue la tabla SimpleDateFormat de Java. Haga clic aquí para ver los documentos.](https://docs.oracle.com/javase/7/docs/api/java/text/SimpleDateFormat.html)"
   ]
  },
  {
   "cell_type": "code",
   "execution_count": 42,
   "id": "abafa8d9-23e0-4d25-ba6c-728b14e51ce2",
   "metadata": {},
   "outputs": [
    {
     "name": "stdout",
     "output_type": "stream",
     "text": [
      "+-------------------+\n",
      "|                DOB|\n",
      "+-------------------+\n",
      "|2019-12-25 13:30:00|\n",
      "+-------------------+\n",
      "\n"
     ]
    }
   ],
   "source": [
    "from pyspark.sql.functions import to_date, to_timestamp, lit\n",
    "df = spark.createDataFrame([('2019-12-25 13:30:00',)], ['DOB'])\n",
    "df.show()\n"
   ]
  },
  {
   "cell_type": "code",
   "execution_count": 43,
   "id": "3e645024-713f-4473-9fbe-863d2159c44c",
   "metadata": {},
   "outputs": [
    {
     "name": "stdout",
     "output_type": "stream",
     "text": [
      "root\n",
      " |-- DOB: string (nullable = true)\n",
      "\n"
     ]
    }
   ],
   "source": [
    "df.printSchema()"
   ]
  },
  {
   "cell_type": "code",
   "execution_count": 44,
   "id": "f64ce4ea-03e7-42d9-a3e4-43ad17370132",
   "metadata": {},
   "outputs": [
    {
     "name": "stdout",
     "output_type": "stream",
     "text": [
      "+---------------------------------+--------------------------------------+\n",
      "|to_date(DOB, yyyy-MM-dd HH:mm:ss)|to_timestamp(DOB, yyyy-MM-dd HH:mm:ss)|\n",
      "+---------------------------------+--------------------------------------+\n",
      "|                       2019-12-25|                   2019-12-25 13:30:00|\n",
      "+---------------------------------+--------------------------------------+\n",
      "\n",
      "root\n",
      " |-- to_date(DOB, yyyy-MM-dd HH:mm:ss): date (nullable = true)\n",
      " |-- to_timestamp(DOB, yyyy-MM-dd HH:mm:ss): timestamp (nullable = true)\n",
      "\n"
     ]
    }
   ],
   "source": [
    "df = spark.createDataFrame([('2019-12-25 13:30:00',)], ['DOB'])\n",
    "df = df.select(to_date(col('DOB'),'yyyy-MM-dd HH:mm:ss'), to_timestamp(col('DOB'),'yyyy-MM-dd HH:mm:ss'))\n",
    "df.show()\n",
    "df.printSchema()"
   ]
  },
  {
   "cell_type": "markdown",
   "id": "480a3d8c-2fba-4740-b4da-4530e4caea7e",
   "metadata": {},
   "source": [
    "**¿Qué día es 3 días antes de la fecha más antigua y 3 días después de la fecha más reciente?**"
   ]
  },
  {
   "cell_type": "code",
   "execution_count": 46,
   "id": "89dd5c00-6035-43e3-bd34-383372cc3f62",
   "metadata": {},
   "outputs": [
    {
     "name": "stdout",
     "output_type": "stream",
     "text": [
      "+----------------------+----------------------+\n",
      "|date_add(max(Date), 3)|date_sub(min(Date), 3)|\n",
      "+----------------------+----------------------+\n",
      "|            2021-04-02|            1989-12-29|\n",
      "+----------------------+----------------------+\n",
      "\n"
     ]
    }
   ],
   "source": [
    "from pyspark.sql.functions import date_add, date_sub\n",
    "# create a dummy dataframe\n",
    "df = spark.createDataFrame([('1990-01-01',),('1995-01-03',),('2021-03-30',)], ['Date'])\n",
    "# find out the required dates\n",
    "df.select(date_add(max(col('Date')),3), date_sub(min(col('Date')),3)).show()"
   ]
  },
  {
   "cell_type": "markdown",
   "id": "d9eb3596-d324-46cc-8890-80d2e3083335",
   "metadata": {},
   "source": [
    "<a id='joins-in-pyspark'></a>\n",
    "## Joins en PySpark"
   ]
  },
  {
   "cell_type": "code",
   "execution_count": 47,
   "id": "6e554685-6bb5-4faf-955f-0dd74d71778f",
   "metadata": {},
   "outputs": [
    {
     "name": "stdout",
     "output_type": "stream",
     "text": [
      "+---+--------+\n",
      "| id|car_name|\n",
      "+---+--------+\n",
      "|  1|   Car A|\n",
      "|  2|   Car B|\n",
      "|  3|   Car C|\n",
      "+---+--------+\n",
      "\n",
      "+---+---------+\n",
      "| id|car_price|\n",
      "+---+---------+\n",
      "|  1|     1000|\n",
      "|  2|     2000|\n",
      "|  3|     3000|\n",
      "+---+---------+\n",
      "\n"
     ]
    }
   ],
   "source": [
    "# Create two dataframes\n",
    "cars_df = spark.createDataFrame([[1, 'Car A'],[2, 'Car B'],[3, 'Car C']], [\"id\", \"car_name\"])\n",
    "car_price_df = spark.createDataFrame([[1, 1000],[2, 2000],[3, 3000]], [\"id\", \"car_price\"])\n",
    "cars_df.show()\n",
    "car_price_df.show()"
   ]
  },
  {
   "cell_type": "code",
   "execution_count": 48,
   "id": "a02da3ab-1f4a-4699-8ef1-c04052b2275f",
   "metadata": {},
   "outputs": [
    {
     "name": "stdout",
     "output_type": "stream",
     "text": [
      "+---+--------+---------+\n",
      "|id |car_name|car_price|\n",
      "+---+--------+---------+\n",
      "|1  |Car A   |1000     |\n",
      "|2  |Car B   |2000     |\n",
      "|3  |Car C   |3000     |\n",
      "+---+--------+---------+\n",
      "\n"
     ]
    }
   ],
   "source": [
    "# Executing an inner join so we can see the id, name and price of each car in one row\n",
    "cars_df.join(car_price_df, cars_df.id == car_price_df.id, 'inner').select(cars_df['id'],cars_df['car_name'],car_price_df['car_price']).show(truncate=False)"
   ]
  },
  {
   "cell_type": "markdown",
   "id": "52ce5a9d-2316-4f2c-afea-fbf0e9fa9a9c",
   "metadata": {},
   "source": [
    "Como puede ver, hemos realizado una unión interna entre dos dataframes. Las siguientes uniones son compatibles con PySpark:\n",
    "1. inner (default)\n",
    "2. cross\n",
    "3. outer\n",
    "4. full\n",
    "5. full_outer\n",
    "6. left\n",
    "7. left_outer\n",
    "8. right\n",
    "9. right_outer\n",
    "10. left_semi\n",
    "11. left_anti"
   ]
  },
  {
   "cell_type": "markdown",
   "id": "b87132dc-9d14-41f7-b79c-86f1405fd5ee",
   "metadata": {},
   "source": [
    "<a id='spark-sql'></a>\n",
    "## Spark SQL\n",
    "\n",
    "SQL ha existido desde la década de 1970, por lo que uno puede imaginar la cantidad de personas que lo convirtieron en su día a día. A medida que el big data se hizo popular, la cantidad de profesionales con el conocimiento técnico para manejarlo fue escaso. Esto condujo a la creación de Spark SQL. Para citar los documentos:<br>\n",
    ">Spark SQL es un módulo de Spark para el procesamiento de datos estructurados. A diferencia de la API básica de Spark RDD, las interfaces proporcionadas por Spark SQL brindan a Spark más información sobre la estructura de los datos y el cálculo que se está realizando. Internamente, Spark SQL usa esta información adicional para realizar optimizaciones adicionales.\n",
    "\n",
    "Básicamente, lo que necesita saber es que Spark SQL se usa para ejecutar consultas SQL en big data. Spark SQL también se puede usar para leer datos de tablas y vistas de Hive. Permítanme explicar Spark SQL con un ejemplo."
   ]
  },
  {
   "cell_type": "code",
   "execution_count": 50,
   "id": "23898253-d78b-442c-94fc-fd9d365a78ec",
   "metadata": {},
   "outputs": [
    {
     "name": "stdout",
     "output_type": "stream",
     "text": [
      "+--------------------+----+---------+------------+----------+------+------------+-----+------+\n",
      "|                 Car| MPG|Cylinders|Displacement|Horsepower|Weight|Acceleration|Model|Origin|\n",
      "+--------------------+----+---------+------------+----------+------+------------+-----+------+\n",
      "|Chevrolet Chevell...|18.0|        8|       307.0|     130.0| 3504.|        12.0|   70|    US|\n",
      "|   Buick Skylark 320|15.0|        8|       350.0|     165.0| 3693.|        11.5|   70|    US|\n",
      "|  Plymouth Satellite|18.0|        8|       318.0|     150.0| 3436.|        11.0|   70|    US|\n",
      "|       AMC Rebel SST|16.0|        8|       304.0|     150.0| 3433.|        12.0|   70|    US|\n",
      "|         Ford Torino|17.0|        8|       302.0|     140.0| 3449.|        10.5|   70|    US|\n",
      "+--------------------+----+---------+------------+----------+------+------------+-----+------+\n",
      "\n",
      "+-----------+\n",
      "|total_count|\n",
      "+-----------+\n",
      "|        406|\n",
      "+-----------+\n",
      "\n"
     ]
    }
   ],
   "source": [
    "# Load data\n",
    "df = spark.read.csv('cars.csv', header=True, sep=\";\")\n",
    "# Register Temporary Table\n",
    "df.createOrReplaceTempView(\"temp\")\n",
    "# Select all data from temp table\n",
    "spark.sql(\"select * from temp limit 5\").show()\n",
    "# Select count of data in table\n",
    "spark.sql(\"select count(*) as total_count from temp\").show()"
   ]
  },
  {
   "cell_type": "markdown",
   "id": "0a1fe837-751a-4530-86e8-5c480715c031",
   "metadata": {},
   "source": [
    "Como puede ver, registramos el dataframe como una tabla temporal y luego ejecutamos consultas SQL básicas en él. ¡¿Qué tan asombroso es eso?!<br>\n",
    "Si usted es una persona que se siente más cómoda con SQL, ¡entonces esta característica es realmente una bendición para usted! Pero esto plantea una pregunta:\n",
    "> *¿Debería seguir usando Spark SQL todo el tiempo?*\n",
    "\n",
    "Y la respuesta es, _**depende**_.<br>\n",
    "Básicamente, las diferentes funciones actúan de diferentes maneras y, según el tipo de acción que intente realizar, la velocidad a la que completa la ejecución también difiere. Pero a medida que pasa el tiempo, esta función mejora cada vez más, por lo que es de esperar que la diferencia sea un pequeño margen. Hay muchos análisis realizados sobre esto, pero nada tiene una respuesta definitiva todavía. Puede leer este [estudio comparativo realizado por Horton Works](https://community.cloudera.com/t5/Community-Articles/Spark-RDDs-vs-DataFrames-vs-SparkSQL/ta-p/246547) o la respuesta a esta [pregunta de stackoverflow] (https://stackoverflow.com/questions/45430816/writing-sql-vs-using-dataframe-apis-in-spark-sql) si todavía tiene curiosidad al respecto."
   ]
  },
  {
   "cell_type": "markdown",
   "id": "732e1f7d-fd73-4682-9024-d0dd3661679c",
   "metadata": {},
   "source": [
    "<a id='rdd'></a>\n",
    "## RDD\n",
    "\n",
    "> Con map, defines una función y luego la aplicas registro por registro. Flatmap devuelve un nuevo RDD aplicando primero una función a todos los elementos en los RDD y luego aplanando el resultado. Filtro, devuelve un nuevo RDD. Es decir, sólo los elementos que satisfacen una condición. Con reduce, estamos tomando elementos vecinos y produciendo un único resultado combinado.\n",
    "Por ejemplo, supongamos que tiene un conjunto de números. Puede reducir esto a su suma proporcionando una función que toma como entrada dos valores y los reduce a uno.\n",
    "\n",
    "Algunas de las razones por las que usaría un dataframe sobre RDD son:\n",
    "1. Es la capacidad de representar datos como filas y columnas. Pero esto también significa que solo puede contener datos estructurados y semiestructurados.\n",
    "2. Permite procesar datos en diferentes formatos (AVRO, CSV, JSON, y sistema de almacenamiento HDFS, tablas HIVE, MySQL).\n",
    "3. Es una capacidad superior de optimización de trabajos.\n",
    "4. La API de DataFrame es muy fácil de usar."
   ]
  },
  {
   "cell_type": "code",
   "execution_count": 54,
   "id": "af37d0ea-ba68-44bd-af80-a7bd7739d9bc",
   "metadata": {},
   "outputs": [
    {
     "name": "stdout",
     "output_type": "stream",
     "text": [
      "Car;MPG;Cylinders;Displacement;Horsepower;Weight;Acceleration;Model;Origin\n"
     ]
    }
   ],
   "source": [
    "cars = spark.sparkContext.textFile('cars.csv')\n",
    "print(cars.first())\n"
   ]
  },
  {
   "cell_type": "code",
   "execution_count": 55,
   "id": "f54e904b-ff1d-4af0-93d8-7ed3f20f683d",
   "metadata": {},
   "outputs": [
    {
     "name": "stdout",
     "output_type": "stream",
     "text": [
      "Chevrolet Chevelle Malibu;18.0;8;307.0;130.0;3504.;12.0;70;US\n"
     ]
    }
   ],
   "source": [
    "cars_header = cars.first()\n",
    "cars_rest = cars.filter(lambda line: line!=cars_header)\n",
    "print(cars_rest.first())"
   ]
  },
  {
   "cell_type": "markdown",
   "id": "a05c41f5-38d8-472b-b15d-303228e053fc",
   "metadata": {},
   "source": [
    "**¿Cuántos autos hay en nuestro csv?**"
   ]
  },
  {
   "cell_type": "code",
   "execution_count": 57,
   "id": "4605517e-2c9f-4539-827f-f0f3be58a04b",
   "metadata": {},
   "outputs": [
    {
     "data": {
      "text/plain": [
       "406"
      ]
     },
     "execution_count": 57,
     "metadata": {},
     "output_type": "execute_result"
    }
   ],
   "source": [
    "cars_rest.map(lambda line: line.split(\";\")).count()"
   ]
  },
  {
   "cell_type": "markdown",
   "id": "d9680506-24ff-44b6-a91c-10a946e7249a",
   "metadata": {},
   "source": [
    "**Muestra el nombre del coche, MPG, cilindros, peso y origen de los coches con origen en Europa**"
   ]
  },
  {
   "cell_type": "code",
   "execution_count": 62,
   "id": "2cfb8a3a-d9ff-493d-9a34-b68b3f8d4292",
   "metadata": {},
   "outputs": [
    {
     "data": {
      "text/plain": [
       "[('Citroen DS-21 Pallas', '0', '4', '3090.', 'Europe'),\n",
       " ('Volkswagen 1131 Deluxe Sedan', '26.0', '4', '1835.', 'Europe'),\n",
       " ('Peugeot 504', '25.0', '4', '2672.', 'Europe'),\n",
       " ('Audi 100 LS', '24.0', '4', '2430.', 'Europe'),\n",
       " ('Saab 99e', '25.0', '4', '2375.', 'Europe'),\n",
       " ('BMW 2002', '26.0', '4', '2234.', 'Europe'),\n",
       " ('Volkswagen Super Beetle 117', '0', '4', '1978.', 'Europe'),\n",
       " ('Opel 1900', '28.0', '4', '2123.', 'Europe'),\n",
       " ('Peugeot 304', '30.0', '4', '2074.', 'Europe'),\n",
       " ('Fiat 124B', '30.0', '4', '2065.', 'Europe'),\n",
       " ('Volkswagen Model 111', '27.0', '4', '1834.', 'Europe'),\n",
       " ('Volkswagen Type 3', '23.0', '4', '2254.', 'Europe'),\n",
       " ('Volvo 145e (sw)', '18.0', '4', '2933.', 'Europe'),\n",
       " ('Volkswagen 411 (sw)', '22.0', '4', '2511.', 'Europe'),\n",
       " ('Peugeot 504 (sw)', '21.0', '4', '2979.', 'Europe'),\n",
       " ('Renault 12 (sw)', '26.0', '4', '2189.', 'Europe'),\n",
       " ('Volkswagen Super Beetle', '26.0', '4', '1950.', 'Europe'),\n",
       " ('Fiat 124 Sport Coupe', '26.0', '4', '2265.', 'Europe'),\n",
       " ('Fiat 128', '29.0', '4', '1867.', 'Europe'),\n",
       " ('Opel Manta', '24.0', '4', '2158.', 'Europe'),\n",
       " ('Audi 100LS', '20.0', '4', '2582.', 'Europe'),\n",
       " ('Volvo 144ea', '19.0', '4', '2868.', 'Europe'),\n",
       " ('Saab 99le', '24.0', '4', '2660.', 'Europe'),\n",
       " ('Audi Fox', '29.0', '4', '2219.', 'Europe'),\n",
       " ('Volkswagen Dasher', '26.0', '4', '1963.', 'Europe'),\n",
       " ('Opel Manta', '26.0', '4', '2300.', 'Europe'),\n",
       " ('Fiat 128', '24.0', '4', '2108.', 'Europe'),\n",
       " ('Fiat 124 TC', '26.0', '4', '2246.', 'Europe'),\n",
       " ('Fiat x1.9', '31.0', '4', '2000.', 'Europe'),\n",
       " ('Volkswagen Dasher', '25.0', '4', '2223.', 'Europe'),\n",
       " ('Volkswagen Rabbit', '29.0', '4', '1937.', 'Europe'),\n",
       " ('Audi 100LS', '23.0', '4', '2694.', 'Europe'),\n",
       " ('Peugeot 504', '23.0', '4', '2957.', 'Europe'),\n",
       " ('Volvo 244DL', '22.0', '4', '2945.', 'Europe'),\n",
       " ('Saab 99LE', '25.0', '4', '2671.', 'Europe'),\n",
       " ('Fiat 131', '28.0', '4', '2464.', 'Europe'),\n",
       " ('Opel 1900', '25.0', '4', '2220.', 'Europe'),\n",
       " ('Renault 12tl', '27.0', '4', '2202.', 'Europe'),\n",
       " ('Volkswagen Rabbit', '29.0', '4', '1937.', 'Europe'),\n",
       " ('Volkswagen Rabbit', '29.5', '4', '1825.', 'Europe'),\n",
       " ('Volvo 245', '20.0', '4', '3150.', 'Europe'),\n",
       " ('Peugeot 504', '19.0', '4', '3270.', 'Europe'),\n",
       " ('Mercedes-Benz 280s', '16.5', '6', '3820.', 'Europe'),\n",
       " ('Renault 5 GTL', '36.0', '4', '1825.', 'Europe'),\n",
       " ('Volkswagen Rabbit Custom', '29.0', '4', '1940.', 'Europe'),\n",
       " ('Volkswagen Dasher', '30.5', '4', '2190.', 'Europe'),\n",
       " ('BMW 320i', '21.5', '4', '2600.', 'Europe'),\n",
       " ('Volkswagen Rabbit Custom Diesel', '43.1', '4', '1985.', 'Europe'),\n",
       " ('Audi 5000', '20.3', '5', '2830.', 'Europe'),\n",
       " ('Volvo 264gl', '17.0', '6', '3140.', 'Europe'),\n",
       " ('Saab 99gle', '21.6', '4', '2795.', 'Europe'),\n",
       " ('Peugeot 604sl', '16.2', '6', '3410.', 'Europe'),\n",
       " ('Volkswagen Scirocco', '31.5', '4', '1990.', 'Europe'),\n",
       " ('Volkswagen Rabbit Custom', '31.9', '4', '1925.', 'Europe'),\n",
       " ('Mercedes Benz 300d', '25.4', '5', '3530.', 'Europe'),\n",
       " ('Peugeot 504', '27.2', '4', '3190.', 'Europe'),\n",
       " ('Fiat Strada Custom', '37.3', '4', '2130.', 'Europe'),\n",
       " ('Volkswagen Rabbit', '41.5', '4', '2144.', 'Europe'),\n",
       " ('Audi 4000', '34.3', '4', '2188.', 'Europe'),\n",
       " ('Volkswagen Rabbit C (Diesel)', '44.3', '4', '2085.', 'Europe'),\n",
       " ('Volkswagen Dasher (diesel)', '43.4', '4', '2335.', 'Europe'),\n",
       " ('Audi 5000s (diesel)', '36.4', '5', '2950.', 'Europe'),\n",
       " ('Mercedes-Benz 240d', '30.0', '4', '3250.', 'Europe'),\n",
       " ('Renault Lecar Deluxe', '40.9', '4', '1835.', 'Europe'),\n",
       " ('Volkswagen Rabbit', '29.8', '4', '1845.', 'Europe'),\n",
       " ('Triumph TR7 Coupe', '35.0', '4', '2500.', 'Europe'),\n",
       " ('Volkswagen Jetta', '33.0', '4', '2190.', 'Europe'),\n",
       " ('Renault 18i', '34.5', '4', '2320.', 'Europe'),\n",
       " ('Peugeot 505s Turbo Diesel', '28.1', '4', '3230.', 'Europe'),\n",
       " ('Saab 900s', '0', '4', '2800.', 'Europe'),\n",
       " ('Volvo Diesel', '30.7', '6', '3160.', 'Europe'),\n",
       " ('Volkswagen Rabbit l', '36.0', '4', '1980.', 'Europe'),\n",
       " ('Volkswagen Pickup', '44.0', '4', '2130.', 'Europe')]"
      ]
     },
     "execution_count": 62,
     "metadata": {},
     "output_type": "execute_result"
    }
   ],
   "source": [
    "# Car name is column  0\n",
    "(cars_rest.filter(lambda line: line.split(\";\")[8]=='Europe').\n",
    " map(lambda line: (line.split(\";\")[0],\n",
    "    line.split(\";\")[1],\n",
    "    line.split(\";\")[2],\n",
    "    line.split(\";\")[5],\n",
    "    line.split(\";\")[8])).collect())"
   ]
  },
  {
   "cell_type": "markdown",
   "id": "488e5344-23c4-4a5a-9d1d-a69b86d77a16",
   "metadata": {},
   "source": [
    "**Muestra el nombre del auto, MPG, cilindros, peso y origen de los autos que se originan en Europa o Japón**"
   ]
  },
  {
   "cell_type": "code",
   "execution_count": 63,
   "id": "6a50fe87-188d-4d90-b29f-c8c63e75242c",
   "metadata": {},
   "outputs": [
    {
     "data": {
      "text/plain": [
       "[('Citroen DS-21 Pallas', '0', '4', '3090.', 'Europe'),\n",
       " ('Toyota Corolla Mark ii', '24.0', '4', '2372.', 'Japan'),\n",
       " ('Datsun PL510', '27.0', '4', '2130.', 'Japan'),\n",
       " ('Volkswagen 1131 Deluxe Sedan', '26.0', '4', '1835.', 'Europe'),\n",
       " ('Peugeot 504', '25.0', '4', '2672.', 'Europe'),\n",
       " ('Audi 100 LS', '24.0', '4', '2430.', 'Europe'),\n",
       " ('Saab 99e', '25.0', '4', '2375.', 'Europe'),\n",
       " ('BMW 2002', '26.0', '4', '2234.', 'Europe'),\n",
       " ('Datsun PL510', '27.0', '4', '2130.', 'Japan'),\n",
       " ('Toyota Corolla', '25.0', '4', '2228.', 'Japan'),\n",
       " ('Volkswagen Super Beetle 117', '0', '4', '1978.', 'Europe'),\n",
       " ('Opel 1900', '28.0', '4', '2123.', 'Europe'),\n",
       " ('Peugeot 304', '30.0', '4', '2074.', 'Europe'),\n",
       " ('Fiat 124B', '30.0', '4', '2065.', 'Europe'),\n",
       " ('Toyota Corolla 1200', '31.0', '4', '1773.', 'Japan'),\n",
       " ('Datsun 1200', '35.0', '4', '1613.', 'Japan'),\n",
       " ('Volkswagen Model 111', '27.0', '4', '1834.', 'Europe'),\n",
       " ('Toyota Corolla Hardtop', '24.0', '4', '2278.', 'Japan'),\n",
       " ('Volkswagen Type 3', '23.0', '4', '2254.', 'Europe'),\n",
       " ('Mazda RX2 Coupe', '19.0', '3', '2330.', 'Japan'),\n",
       " ('Volvo 145e (sw)', '18.0', '4', '2933.', 'Europe'),\n",
       " ('Volkswagen 411 (sw)', '22.0', '4', '2511.', 'Europe'),\n",
       " ('Peugeot 504 (sw)', '21.0', '4', '2979.', 'Europe'),\n",
       " ('Renault 12 (sw)', '26.0', '4', '2189.', 'Europe'),\n",
       " ('Datsun 510 (sw)', '28.0', '4', '2288.', 'Japan'),\n",
       " ('Toyota Corolla Mark II (sw)', '23.0', '4', '2506.', 'Japan'),\n",
       " ('Toyota Corolla 1600 (sw)', '27.0', '4', '2100.', 'Japan'),\n",
       " ('Volkswagen Super Beetle', '26.0', '4', '1950.', 'Europe'),\n",
       " ('Toyota Camry', '20.0', '4', '2279.', 'Japan'),\n",
       " ('Datsun 610', '22.0', '4', '2379.', 'Japan'),\n",
       " ('Mazda RX3', '18.0', '3', '2124.', 'Japan'),\n",
       " ('Fiat 124 Sport Coupe', '26.0', '4', '2265.', 'Europe'),\n",
       " ('Fiat 128', '29.0', '4', '1867.', 'Europe'),\n",
       " ('Opel Manta', '24.0', '4', '2158.', 'Europe'),\n",
       " ('Audi 100LS', '20.0', '4', '2582.', 'Europe'),\n",
       " ('Volvo 144ea', '19.0', '4', '2868.', 'Europe'),\n",
       " ('Saab 99le', '24.0', '4', '2660.', 'Europe'),\n",
       " ('Toyota Mark II', '20.0', '6', '2807.', 'Japan'),\n",
       " ('Datsun B210', '31.0', '4', '1950.', 'Japan'),\n",
       " ('Toyota Corolla 1200', '32.0', '4', '1836.', 'Japan'),\n",
       " ('Audi Fox', '29.0', '4', '2219.', 'Europe'),\n",
       " ('Volkswagen Dasher', '26.0', '4', '1963.', 'Europe'),\n",
       " ('Opel Manta', '26.0', '4', '2300.', 'Europe'),\n",
       " ('Toyota Corolla', '31.0', '4', '1649.', 'Japan'),\n",
       " ('Datsun 710', '32.0', '4', '2003.', 'Japan'),\n",
       " ('Fiat 128', '24.0', '4', '2108.', 'Europe'),\n",
       " ('Fiat 124 TC', '26.0', '4', '2246.', 'Europe'),\n",
       " ('Honda Civic', '24.0', '4', '2489.', 'Japan'),\n",
       " ('Subaru', '26.0', '4', '2391.', 'Japan'),\n",
       " ('Fiat x1.9', '31.0', '4', '2000.', 'Europe'),\n",
       " ('Toyota Corolla', '29.0', '4', '2171.', 'Japan'),\n",
       " ('Toyota Corolla', '24.0', '4', '2702.', 'Japan'),\n",
       " ('Volkswagen Dasher', '25.0', '4', '2223.', 'Europe'),\n",
       " ('Datsun 710', '24.0', '4', '2545.', 'Japan'),\n",
       " ('Volkswagen Rabbit', '29.0', '4', '1937.', 'Europe'),\n",
       " ('Audi 100LS', '23.0', '4', '2694.', 'Europe'),\n",
       " ('Peugeot 504', '23.0', '4', '2957.', 'Europe'),\n",
       " ('Volvo 244DL', '22.0', '4', '2945.', 'Europe'),\n",
       " ('Saab 99LE', '25.0', '4', '2671.', 'Europe'),\n",
       " ('Honda Civic CVCC', '33.0', '4', '1795.', 'Japan'),\n",
       " ('Fiat 131', '28.0', '4', '2464.', 'Europe'),\n",
       " ('Opel 1900', '25.0', '4', '2220.', 'Europe'),\n",
       " ('Renault 12tl', '27.0', '4', '2202.', 'Europe'),\n",
       " ('Volkswagen Rabbit', '29.0', '4', '1937.', 'Europe'),\n",
       " ('Honda Civic', '33.0', '4', '1795.', 'Japan'),\n",
       " ('Volkswagen Rabbit', '29.5', '4', '1825.', 'Europe'),\n",
       " ('Datsun B-210', '32.0', '4', '1990.', 'Japan'),\n",
       " ('Toyota Corolla', '28.0', '4', '2155.', 'Japan'),\n",
       " ('Volvo 245', '20.0', '4', '3150.', 'Europe'),\n",
       " ('Peugeot 504', '19.0', '4', '3270.', 'Europe'),\n",
       " ('Toyota Mark II', '19.0', '6', '2930.', 'Japan'),\n",
       " ('Mercedes-Benz 280s', '16.5', '6', '3820.', 'Europe'),\n",
       " ('Honda Accord CVCC', '31.5', '4', '2045.', 'Japan'),\n",
       " ('Renault 5 GTL', '36.0', '4', '1825.', 'Europe'),\n",
       " ('Datsun F-10 Hatchback', '33.5', '4', '1945.', 'Japan'),\n",
       " ('Volkswagen Rabbit Custom', '29.0', '4', '1940.', 'Europe'),\n",
       " ('Toyota Corolla Liftback', '26.0', '4', '2265.', 'Japan'),\n",
       " ('Subaru DL', '30.0', '4', '1985.', 'Japan'),\n",
       " ('Volkswagen Dasher', '30.5', '4', '2190.', 'Europe'),\n",
       " ('Datsun 810', '22.0', '6', '2815.', 'Japan'),\n",
       " ('BMW 320i', '21.5', '4', '2600.', 'Europe'),\n",
       " ('Mazda RX-4', '21.5', '3', '2720.', 'Japan'),\n",
       " ('Volkswagen Rabbit Custom Diesel', '43.1', '4', '1985.', 'Europe'),\n",
       " ('Mazda GLC Deluxe', '32.8', '4', '1985.', 'Japan'),\n",
       " ('Datsun B210 GX', '39.4', '4', '2070.', 'Japan'),\n",
       " ('Honda Civic CVCC', '36.1', '4', '1800.', 'Japan'),\n",
       " ('Toyota Corolla', '27.5', '4', '2560.', 'Japan'),\n",
       " ('Datsun 510', '27.2', '4', '2300.', 'Japan'),\n",
       " ('Toyota Celica GT Liftback', '21.1', '4', '2515.', 'Japan'),\n",
       " ('Datsun 200-SX', '23.9', '4', '2405.', 'Japan'),\n",
       " ('Audi 5000', '20.3', '5', '2830.', 'Europe'),\n",
       " ('Volvo 264gl', '17.0', '6', '3140.', 'Europe'),\n",
       " ('Saab 99gle', '21.6', '4', '2795.', 'Europe'),\n",
       " ('Peugeot 604sl', '16.2', '6', '3410.', 'Europe'),\n",
       " ('Volkswagen Scirocco', '31.5', '4', '1990.', 'Europe'),\n",
       " ('Honda Accord LX', '29.5', '4', '2135.', 'Japan'),\n",
       " ('Volkswagen Rabbit Custom', '31.9', '4', '1925.', 'Europe'),\n",
       " ('Mazda GLC Deluxe', '34.1', '4', '1975.', 'Japan'),\n",
       " ('Mercedes Benz 300d', '25.4', '5', '3530.', 'Europe'),\n",
       " ('Peugeot 504', '27.2', '4', '3190.', 'Europe'),\n",
       " ('Datsun 210', '31.8', '4', '2020.', 'Japan'),\n",
       " ('Fiat Strada Custom', '37.3', '4', '2130.', 'Europe'),\n",
       " ('Volkswagen Rabbit', '41.5', '4', '2144.', 'Europe'),\n",
       " ('Toyota Corolla Tercel', '38.1', '4', '1968.', 'Japan'),\n",
       " ('Datsun 310', '37.2', '4', '2019.', 'Japan'),\n",
       " ('Audi 4000', '34.3', '4', '2188.', 'Europe'),\n",
       " ('Toyota Corolla Liftback', '29.8', '4', '2711.', 'Japan'),\n",
       " ('Mazda 626', '31.3', '4', '2542.', 'Japan'),\n",
       " ('Datsun 510 Hatchback', '37.0', '4', '2434.', 'Japan'),\n",
       " ('Toyota Corolla', '32.2', '4', '2265.', 'Japan'),\n",
       " ('Mazda GLC', '46.6', '4', '2110.', 'Japan'),\n",
       " ('Datsun 210', '40.8', '4', '2110.', 'Japan'),\n",
       " ('Volkswagen Rabbit C (Diesel)', '44.3', '4', '2085.', 'Europe'),\n",
       " ('Volkswagen Dasher (diesel)', '43.4', '4', '2335.', 'Europe'),\n",
       " ('Audi 5000s (diesel)', '36.4', '5', '2950.', 'Europe'),\n",
       " ('Mercedes-Benz 240d', '30.0', '4', '3250.', 'Europe'),\n",
       " ('Honda Civic 1500 gl', '44.6', '4', '1850.', 'Japan'),\n",
       " ('Renault Lecar Deluxe', '40.9', '4', '1835.', 'Europe'),\n",
       " ('Subaru DL', '33.8', '4', '2145.', 'Japan'),\n",
       " ('Volkswagen Rabbit', '29.8', '4', '1845.', 'Europe'),\n",
       " ('Datsun 280-ZX', '32.7', '6', '2910.', 'Japan'),\n",
       " ('Mazda RX-7 GS', '23.7', '3', '2420.', 'Japan'),\n",
       " ('Triumph TR7 Coupe', '35.0', '4', '2500.', 'Europe'),\n",
       " ('Honda Accord', '32.4', '4', '2290.', 'Japan'),\n",
       " ('Toyota Starlet', '39.1', '4', '1755.', 'Japan'),\n",
       " ('Honda Civic 1300', '35.1', '4', '1760.', 'Japan'),\n",
       " ('Subaru', '32.3', '4', '2065.', 'Japan'),\n",
       " ('Datsun 210 MPG', '37.0', '4', '1975.', 'Japan'),\n",
       " ('Toyota Tercel', '37.7', '4', '2050.', 'Japan'),\n",
       " ('Mazda GLC 4', '34.1', '4', '1985.', 'Japan'),\n",
       " ('Volkswagen Jetta', '33.0', '4', '2190.', 'Europe'),\n",
       " ('Renault 18i', '34.5', '4', '2320.', 'Europe'),\n",
       " ('Honda Prelude', '33.7', '4', '2210.', 'Japan'),\n",
       " ('Toyota Corolla', '32.4', '4', '2350.', 'Japan'),\n",
       " ('Datsun 200SX', '32.9', '4', '2615.', 'Japan'),\n",
       " ('Mazda 626', '31.6', '4', '2635.', 'Japan'),\n",
       " ('Peugeot 505s Turbo Diesel', '28.1', '4', '3230.', 'Europe'),\n",
       " ('Saab 900s', '0', '4', '2800.', 'Europe'),\n",
       " ('Volvo Diesel', '30.7', '6', '3160.', 'Europe'),\n",
       " ('Toyota Cressida', '25.4', '6', '2900.', 'Japan'),\n",
       " ('Datsun 810 Maxima', '24.2', '6', '2930.', 'Japan'),\n",
       " ('Volkswagen Rabbit l', '36.0', '4', '1980.', 'Europe'),\n",
       " ('Mazda GLC Custom l', '37.0', '4', '2025.', 'Japan'),\n",
       " ('Mazda GLC Custom', '31.0', '4', '1970.', 'Japan'),\n",
       " ('Nissan Stanza XE', '36.0', '4', '2160.', 'Japan'),\n",
       " ('Honda Accord', '36.0', '4', '2205.', 'Japan'),\n",
       " ('Toyota Corolla', '34.0', '4', '2245', 'Japan'),\n",
       " ('Honda Civic', '38.0', '4', '1965.', 'Japan'),\n",
       " ('Honda Civic (auto)', '32.0', '4', '1965.', 'Japan'),\n",
       " ('Datsun 310 GX', '38.0', '4', '1995.', 'Japan'),\n",
       " ('Toyota Celica GT', '32.0', '4', '2665.', 'Japan'),\n",
       " ('Volkswagen Pickup', '44.0', '4', '2130.', 'Europe')]"
      ]
     },
     "execution_count": 63,
     "metadata": {},
     "output_type": "execute_result"
    }
   ],
   "source": [
    "# Car name is column  0\n",
    "(cars_rest.filter(lambda line: line.split(\";\")[8] in ['Europe','Japan']).\n",
    " map(lambda line: (line.split(\";\")[0],\n",
    "    line.split(\";\")[1],\n",
    "    line.split(\";\")[2],\n",
    "    line.split(\";\")[5],\n",
    "    line.split(\";\")[8])).collect())"
   ]
  },
  {
   "cell_type": "markdown",
   "id": "624a01b9-c5e3-4870-8e89-2ffe870b1c12",
   "metadata": {},
   "source": [
    "<a id='user-defined-functions-udf'></a>\n",
    "## User-Defined Functions (UDF)"
   ]
  },
  {
   "cell_type": "markdown",
   "id": "5fd8ffdc-e197-427c-aa7a-6d59082b2510",
   "metadata": {},
   "source": [
    "<a id='creating-dataframes'></a>\n",
    "## Creando Dataframes"
   ]
  },
  {
   "cell_type": "markdown",
   "id": "95667033-1aef-4c38-b3c8-1c03343872df",
   "metadata": {},
   "source": [
    "Al comenzar con los dataframes, la pregunta más común es: *'¿Cómo creo un dataframes?'* <br>\n",
    "A continuación, puede ver cómo crear tres tipos de dataframes:"
   ]
  },
  {
   "cell_type": "markdown",
   "id": "f690fc8f-c222-4d49-9f0c-5bda6f4b9515",
   "metadata": {},
   "source": [
    "### Crear un dataframes totalmente vacío"
   ]
  },
  {
   "cell_type": "code",
   "execution_count": 68,
   "id": "d039010c-62b7-4b7b-b38e-ad34df755258",
   "metadata": {},
   "outputs": [
    {
     "name": "stdout",
     "output_type": "stream",
     "text": [
      "++\n",
      "||\n",
      "++\n",
      "++\n",
      "\n"
     ]
    }
   ],
   "source": [
    "from pyspark.sql.types import StructType\n",
    "from pyspark.sql.types import *\n",
    "sc = spark.sparkContext\n",
    "#Create empty df\n",
    "schema = StructType([])\n",
    "empty = spark.createDataFrame(sc.emptyRDD(), schema)\n",
    "empty.show()"
   ]
  },
  {
   "cell_type": "markdown",
   "id": "9d2f26b9-d17b-4c4c-91b7-ac39e7d95f1f",
   "metadata": {},
   "source": [
    "### Crear un dataframes totalmente vacío con encabezados"
   ]
  },
  {
   "cell_type": "code",
   "execution_count": 70,
   "id": "ffd3d5e0-0d6f-48cd-bab7-04c1a831a42f",
   "metadata": {},
   "outputs": [
    {
     "name": "stdout",
     "output_type": "stream",
     "text": [
      "+----+\n",
      "|name|\n",
      "+----+\n",
      "+----+\n",
      "\n"
     ]
    }
   ],
   "source": [
    "from pyspark.sql.types import StructType, StructField\n",
    "#Create empty df with header\n",
    "schema_header = StructType([StructField(\"name\", StringType(), True)])\n",
    "empty_with_header = spark.createDataFrame(sc.emptyRDD(), schema_header)\n",
    "empty_with_header.show()"
   ]
  },
  {
   "cell_type": "markdown",
   "id": "3796c319-5bb0-4234-bd2b-83feab7a6e0b",
   "metadata": {},
   "source": [
    "### Crear un dataframes con datos"
   ]
  },
  {
   "cell_type": "code",
   "execution_count": 71,
   "id": "5b678ad2-82c7-4208-85cc-6fce0f6fc1cb",
   "metadata": {},
   "outputs": [
    {
     "name": "stdout",
     "output_type": "stream",
     "text": [
      "+-----+---+\n",
      "| name|age|\n",
      "+-----+---+\n",
      "|Alice| 13|\n",
      "|Jacob| 24|\n",
      "|Betty|135|\n",
      "+-----+---+\n",
      "\n"
     ]
    }
   ],
   "source": [
    "from pyspark.sql import Row\n",
    "mylist = [\n",
    "  {\"name\":'Alice',\"age\":13},\n",
    "  {\"name\":'Jacob',\"age\":24},\n",
    "  {\"name\":'Betty',\"age\":135},\n",
    "]\n",
    "spark.createDataFrame(Row(**x) for x in mylist).show()"
   ]
  },
  {
   "cell_type": "code",
   "execution_count": 72,
   "id": "fc652aae-9245-4df4-8f81-50a32ca7e3cb",
   "metadata": {},
   "outputs": [
    {
     "name": "stdout",
     "output_type": "stream",
     "text": [
      "+-----+---+\n",
      "| name|age|\n",
      "+-----+---+\n",
      "|Alice| 13|\n",
      "|Jacob| 24|\n",
      "|Betty|135|\n",
      "+-----+---+\n",
      "\n"
     ]
    }
   ],
   "source": [
    "# You can achieve the same using this - note that we are using spark context here, not a spark session\n",
    "from pyspark.sql import Row\n",
    "df = sc.parallelize([\n",
    "        Row(name='Alice', age=13),\n",
    "        Row(name='Jacob', age=24),\n",
    "        Row(name='Betty', age=135)]).toDF()\n",
    "df.show()"
   ]
  },
  {
   "cell_type": "code",
   "execution_count": 73,
   "id": "acdc6e32-e38e-462c-90a8-de82695bf4ed",
   "metadata": {},
   "outputs": [],
   "source": [
    "sc.stop()"
   ]
  },
  {
   "cell_type": "code",
   "execution_count": null,
   "id": "1440dc2a-fbaf-481a-a26c-8a8a9e7e931a",
   "metadata": {},
   "outputs": [],
   "source": []
  }
 ],
 "metadata": {
  "kernelspec": {
   "display_name": "Python 3",
   "language": "python",
   "name": "python3"
  },
  "language_info": {
   "codemirror_mode": {
    "name": "ipython",
    "version": 3
   },
   "file_extension": ".py",
   "mimetype": "text/x-python",
   "name": "python",
   "nbconvert_exporter": "python",
   "pygments_lexer": "ipython3",
   "version": "3.9.16"
  },
  "vscode": {
   "interpreter": {
    "hash": "faa765dd5da51d8f7f92021f5d7c12b267f77db8fd927bf72d1b2650fca64ee8"
   }
  }
 },
 "nbformat": 4,
 "nbformat_minor": 5
}
